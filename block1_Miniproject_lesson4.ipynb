{
 "cells": [
  {
   "cell_type": "code",
   "execution_count": 3,
   "metadata": {},
   "outputs": [],
   "source": [
    "import pandas as pd\n",
    "import os\n",
    "import seaborn as sns\n",
    "import matplotlib.pyplot as plt"
   ]
  },
  {
   "cell_type": "code",
   "execution_count": 12,
   "metadata": {},
   "outputs": [
    {
     "name": "stdout",
     "output_type": "stream",
     "text": [
      "CPU times: user 7.99 ms, sys: 1.78 ms, total: 9.77 ms\n",
      "Wall time: 9.19 ms\n"
     ]
    },
    {
     "data": {
      "text/html": [
       "<div>\n",
       "<style scoped>\n",
       "    .dataframe tbody tr th:only-of-type {\n",
       "        vertical-align: middle;\n",
       "    }\n",
       "\n",
       "    .dataframe tbody tr th {\n",
       "        vertical-align: top;\n",
       "    }\n",
       "\n",
       "    .dataframe thead th {\n",
       "        text-align: right;\n",
       "    }\n",
       "</style>\n",
       "<table border=\"1\" class=\"dataframe\">\n",
       "  <thead>\n",
       "    <tr style=\"text-align: right;\">\n",
       "      <th></th>\n",
       "      <th>date</th>\n",
       "      <th>name</th>\n",
       "      <th>product_id</th>\n",
       "      <th>quantity</th>\n",
       "    </tr>\n",
       "  </thead>\n",
       "  <tbody>\n",
       "    <tr>\n",
       "      <th>0</th>\n",
       "      <td>2020-12-05</td>\n",
       "      <td>Petr_Ivanov</td>\n",
       "      <td>27</td>\n",
       "      <td>4</td>\n",
       "    </tr>\n",
       "    <tr>\n",
       "      <th>1</th>\n",
       "      <td>2020-12-05</td>\n",
       "      <td>Petr_Ivanov</td>\n",
       "      <td>89</td>\n",
       "      <td>1</td>\n",
       "    </tr>\n",
       "    <tr>\n",
       "      <th>2</th>\n",
       "      <td>2020-12-05</td>\n",
       "      <td>Petr_Ivanov</td>\n",
       "      <td>33</td>\n",
       "      <td>2</td>\n",
       "    </tr>\n",
       "    <tr>\n",
       "      <th>3</th>\n",
       "      <td>2020-12-05</td>\n",
       "      <td>Petr_Ivanov</td>\n",
       "      <td>8</td>\n",
       "      <td>3</td>\n",
       "    </tr>\n",
       "    <tr>\n",
       "      <th>4</th>\n",
       "      <td>2020-12-05</td>\n",
       "      <td>Petr_Ivanov</td>\n",
       "      <td>16</td>\n",
       "      <td>1</td>\n",
       "    </tr>\n",
       "    <tr>\n",
       "      <th>...</th>\n",
       "      <td>...</td>\n",
       "      <td>...</td>\n",
       "      <td>...</td>\n",
       "      <td>...</td>\n",
       "    </tr>\n",
       "    <tr>\n",
       "      <th>156</th>\n",
       "      <td>2020-12-07</td>\n",
       "      <td>Petr_Fedorov</td>\n",
       "      <td>18</td>\n",
       "      <td>4</td>\n",
       "    </tr>\n",
       "    <tr>\n",
       "      <th>157</th>\n",
       "      <td>2020-12-07</td>\n",
       "      <td>Petr_Fedorov</td>\n",
       "      <td>94</td>\n",
       "      <td>4</td>\n",
       "    </tr>\n",
       "    <tr>\n",
       "      <th>158</th>\n",
       "      <td>2020-12-07</td>\n",
       "      <td>Vasiliy_Ivanov</td>\n",
       "      <td>95</td>\n",
       "      <td>2</td>\n",
       "    </tr>\n",
       "    <tr>\n",
       "      <th>159</th>\n",
       "      <td>2020-12-07</td>\n",
       "      <td>Vasiliy_Ivanov</td>\n",
       "      <td>83</td>\n",
       "      <td>3</td>\n",
       "    </tr>\n",
       "    <tr>\n",
       "      <th>160</th>\n",
       "      <td>2020-12-07</td>\n",
       "      <td>Vasiliy_Ivanov</td>\n",
       "      <td>64</td>\n",
       "      <td>1</td>\n",
       "    </tr>\n",
       "  </tbody>\n",
       "</table>\n",
       "<p>161 rows × 4 columns</p>\n",
       "</div>"
      ],
      "text/plain": [
       "          date            name  product_id  quantity\n",
       "0   2020-12-05     Petr_Ivanov          27         4\n",
       "1   2020-12-05     Petr_Ivanov          89         1\n",
       "2   2020-12-05     Petr_Ivanov          33         2\n",
       "3   2020-12-05     Petr_Ivanov           8         3\n",
       "4   2020-12-05     Petr_Ivanov          16         1\n",
       "..         ...             ...         ...       ...\n",
       "156 2020-12-07    Petr_Fedorov          18         4\n",
       "157 2020-12-07    Petr_Fedorov          94         4\n",
       "158 2020-12-07  Vasiliy_Ivanov          95         2\n",
       "159 2020-12-07  Vasiliy_Ivanov          83         3\n",
       "160 2020-12-07  Vasiliy_Ivanov          64         1\n",
       "\n",
       "[161 rows x 4 columns]"
      ]
     },
     "execution_count": 12,
     "metadata": {},
     "output_type": "execute_result"
    }
   ],
   "source": [
    "%%time\n",
    "# определяем путь до необходимой папки\n",
    "folder_data = '/mnt/HC_Volume_18315164/home-jupyter/jupyter-o-bogdanova/shared/homeworks/python_ds_miniprojects/4/data'\n",
    "\n",
    "#  читаем даты/папки\n",
    "dates = os.listdir(folder_data)\n",
    "\n",
    "# создаем словарь в котором ключ - дата, а ячейка - список клиентов\n",
    "date_clients = {}\n",
    "for i in dates:\n",
    "    path = folder_data+'/'+i\n",
    "    clients = os.listdir(path)\n",
    "    date_clients[i] = clients\n",
    "    \n",
    "# Собираем все данные в список списков\n",
    "all_data = []\n",
    "for i in date_clients:\n",
    "    for j in date_clients[i]:\n",
    "        for k in open(folder_data+'/'+i+'/'+j+'/'+'data.csv').readlines():\n",
    "            if k.startswith(',') == False:\n",
    "                list_k = k.strip().split(',')\n",
    "                all_data+=[[i, j, list_k[1], list_k[2]]]\n",
    "\n",
    "# формируем DataFrame\n",
    "df = pd.DataFrame(data=all_data, columns=['date', 'name', 'product_id', 'quantity'])\n",
    "\n",
    "# Присваиваем столбцу date соответствующий формат данных\n",
    "df.date = pd.to_datetime(df.date)\n",
    "\n",
    "#Присваиваем столбцам quantity product_id тип int\n",
    "\n",
    "df = df.astype({'quantity' : 'int', 'product_id' : 'int'})\n",
    "df"
   ]
  },
  {
   "cell_type": "code",
   "execution_count": 22,
   "metadata": {
    "scrolled": true
   },
   "outputs": [
    {
     "name": "stdout",
     "output_type": "stream",
     "text": [
      "CPU times: user 199 ms, sys: 11.1 ms, total: 210 ms\n",
      "Wall time: 210 ms\n"
     ]
    }
   ],
   "source": [
    "%%time\n",
    "# Попробуем еще раз решить ту же задачу создания DF, только через пустой DF и построчное добавление данных\n",
    "# определяем путь до необходимой папки\n",
    "\n",
    "path = '/mnt/HC_Volume_18315164/home-jupyter/jupyter-o-bogdanova/shared/homeworks/python_ds_miniprojects/4/data'\n",
    "\n",
    "all_df = pd.DataFrame(columns = ['product_id', 'quantity', 'name', 'date'])\n",
    "lst_path = []\n",
    "for i in range(len(os.listdir(path))):\n",
    "    path_inside = path + '/' + os.listdir(path)[i]\n",
    "    for j in range(len(os.listdir(path_inside))):\n",
    "        #os.listdir(path_inside)[j] Имя человека\n",
    "        #os.listdir(path)[i] Дата\n",
    "        path_to_file = path_inside + '/' + os.listdir(path_inside)[j] + '/' + 'data.csv'  # os.path.join is better for constructing path\n",
    "        lst_path.append(path_to_file)\n",
    "        df = pd.read_csv(path_to_file)\n",
    "        df = df.drop(columns = 'Unnamed: 0')\n",
    "        df['name'] = os.listdir(path_inside)[j]\n",
    "        df['date'] = os.listdir(path)[i]\n",
    "        all_df = pd.concat([all_df, df])"
   ]
  },
  {
   "cell_type": "code",
   "execution_count": 5,
   "metadata": {},
   "outputs": [
    {
     "data": {
      "text/plain": [
       "480"
      ]
     },
     "execution_count": 5,
     "metadata": {},
     "output_type": "execute_result"
    }
   ],
   "source": [
    "df.quantity.sum()"
   ]
  },
  {
   "cell_type": "code",
   "execution_count": 6,
   "metadata": {},
   "outputs": [
    {
     "data": {
      "text/plain": [
       "['Alexey_Smirnov', 'Petr_Smirnov']"
      ]
     },
     "execution_count": 6,
     "metadata": {},
     "output_type": "execute_result"
    }
   ],
   "source": [
    "# Выясните, какой пользователь купил больше всего товаров. \n",
    "# Если их несколько, то перечислите имена через запятую с пробелом и в алфавитном порядке. \n",
    "client_product_count = df \\\n",
    "    .groupby('name', as_index = False) \\\n",
    "    .agg({'quantity' : 'sum'}) \\\n",
    "    .rename(columns = {'quantity' : 'sum_quantity'}) \\\n",
    "    .max().tolist()[1]\n",
    "client_max_product_count = df \\\n",
    "    .groupby('name', as_index = False) \\\n",
    "    .agg({'quantity' : 'sum'}) \\\n",
    "    .rename(columns = {'quantity' : 'sum_quantity'}) \\\n",
    "    .query('sum_quantity == 52') \\\n",
    "    .sort_values('name')['name'].tolist()\n",
    "client_max_product_count"
   ]
  },
  {
   "cell_type": "code",
   "execution_count": 27,
   "metadata": {},
   "outputs": [
    {
     "data": {
      "text/plain": [
       "<matplotlib.axes._subplots.AxesSubplot at 0x7efc90947b38>"
      ]
     },
     "execution_count": 27,
     "metadata": {},
     "output_type": "execute_result"
    },
    {
     "data": {
      "image/png": "[encoded data removed]",
      "text/plain": [
       "<Figure size 1080x864 with 1 Axes>"
      ]
     },
     "metadata": {
      "needs_background": "light"
     },
     "output_type": "display_data"
    }
   ],
   "source": [
    "# Найдите топ-10 товаров по числу проданных единиц за всё время и постройте барплот (столбчатую диаграмму, sns.barplot), где:\n",
    "\n",
    "# по оси x – идентификаторы товаров (product_id) \n",
    "# по оси y – суммарное число их покупок (сколько товаров с таким product_id было продано)\n",
    "# Для практики попробуйте изменить параметры графика: цвет (color), прозрачность (alpha), сортировку значений по оси х (order). \n",
    "\n",
    "# В качестве ответа укажите, сколько было продано единиц товара с product_id равным 56\n",
    "plt.subplots(figsize=(15, 12))\n",
    "for_barplot_product_id = df \\\n",
    "    .groupby('product_id', as_index = False) \\\n",
    "    .agg({'quantity' : 'sum'})\n",
    "sns.barplot(data = for_barplot_product_id, x=for_barplot_product_id.product_id, y=for_barplot_product_id.quantity, color = (0.3, 0.17, 0.7, 1), alpha = 0.5)"
   ]
  },
  {
   "cell_type": "code",
   "execution_count": 49,
   "metadata": {},
   "outputs": [
    {
     "data": {
      "text/plain": [
       "<matplotlib.axes._subplots.AxesSubplot at 0x7efc9069d7f0>"
      ]
     },
     "execution_count": 49,
     "metadata": {},
     "output_type": "execute_result"
    },
    {
     "data": {
      "image/png": "[encoded data removed]",
      "text/plain": [
       "<Figure size 648x432 with 1 Axes>"
      ]
     },
     "metadata": {
      "needs_background": "light"
     },
     "output_type": "display_data"
    }
   ],
   "source": [
    "# Посмотрим на продажи по дням! \n",
    "# Для визуализации снова используйте барплот, только теперь по оси x будут дни, по которым у нас есть данные (date).\n",
    "plt.subplots(figsize=(9, 6))\n",
    "for_barplot_date = df \\\n",
    "    .groupby('date', as_index = False) \\\n",
    "    .agg({'quantity' : 'sum'})\n",
    "\n",
    "for_barplot_date['date'] = for_barplot_date['date'].dt.strftime('%Y-%m-%d')\n",
    "sns.barplot(data = for_barplot_date, x=for_barplot_date.date, y=for_barplot_date.quantity)\n"
   ]
  },
  {
   "cell_type": "code",
   "execution_count": 59,
   "metadata": {},
   "outputs": [
    {
     "data": {
      "text/html": [
       "<div>\n",
       "<style scoped>\n",
       "    .dataframe tbody tr th:only-of-type {\n",
       "        vertical-align: middle;\n",
       "    }\n",
       "\n",
       "    .dataframe tbody tr th {\n",
       "        vertical-align: top;\n",
       "    }\n",
       "\n",
       "    .dataframe thead th {\n",
       "        text-align: right;\n",
       "    }\n",
       "</style>\n",
       "<table border=\"1\" class=\"dataframe\">\n",
       "  <thead>\n",
       "    <tr style=\"text-align: right;\">\n",
       "      <th></th>\n",
       "      <th></th>\n",
       "      <th>date</th>\n",
       "    </tr>\n",
       "    <tr>\n",
       "      <th>name</th>\n",
       "      <th>product_id</th>\n",
       "      <th></th>\n",
       "    </tr>\n",
       "  </thead>\n",
       "  <tbody>\n",
       "    <tr>\n",
       "      <th>Anton_Ivanov</th>\n",
       "      <th>15</th>\n",
       "      <td>2</td>\n",
       "    </tr>\n",
       "    <tr>\n",
       "      <th>Petr_Fedorov</th>\n",
       "      <th>94</th>\n",
       "      <td>2</td>\n",
       "    </tr>\n",
       "  </tbody>\n",
       "</table>\n",
       "</div>"
      ],
      "text/plain": [
       "                         date\n",
       "name         product_id      \n",
       "Anton_Ivanov 15             2\n",
       "Petr_Fedorov 94             2"
      ]
     },
     "execution_count": 59,
     "metadata": {},
     "output_type": "execute_result"
    }
   ],
   "source": [
    "# Сколько пользователей приобрели какой-либо товар повторно (более 1 раза)? \n",
    "# Повтором будем считать покупку товара с одинаковым product_id, совершенную в разные дни. \n",
    "df_second_time = df \\\n",
    "    .drop(columns = 'quantity') \\\n",
    "    .drop_duplicates() \\\n",
    "    .groupby(['name', 'product_id'], as_index = [False, False]) \\\n",
    "    .agg({'date' : 'count'}) \\\n",
    "    .query('date > 1')\n",
    "df_second_time"
   ]
  },
  {
   "cell_type": "code",
   "execution_count": null,
   "metadata": {},
   "outputs": [],
   "source": [
    "# paths = []\n",
    "# dirs_all = []\n",
    "# files_all = []\n",
    "# for path, dirs, files in os.walk(folder_data):\n",
    "#     paths+=[path]\n",
    "#     dirs_all += [dirs]\n",
    "#     files_all += [files]\n",
    "# # Удаление пустых списков\n",
    "# dirs_all = list(filter(None, dirs_all))\n",
    "# dirs_all\n",
    "# df_2 = pd.DataFrame(data = dirs_all[1:6], columns = dirs_all[0])\n",
    "#  df_2"
   ]
  }
 ],
 "metadata": {
  "kernelspec": {
   "display_name": "Python 3",
   "language": "python",
   "name": "python3"
  },
  "language_info": {
   "codemirror_mode": {
    "name": "ipython",
    "version": 3
   },
   "file_extension": ".py",
   "mimetype": "text/x-python",
   "name": "python",
   "nbconvert_exporter": "python",
   "pygments_lexer": "ipython3",
   "version": "3.7.3"
  }
 },
 "nbformat": 4,
 "nbformat_minor": 4
}
