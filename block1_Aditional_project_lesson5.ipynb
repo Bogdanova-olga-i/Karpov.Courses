{
 "cells": [
  {
   "cell_type": "code",
   "execution_count": 18,
   "metadata": {},
   "outputs": [],
   "source": [
    "import pandas as pd\n",
    "import seaborn as sns\n",
    "import matplotlib.pyplot as plt\n",
    "import os\n",
    "import re\n",
    "\n",
    "%matplotlib inline "
   ]
  },
  {
   "cell_type": "code",
   "execution_count": null,
   "metadata": {},
   "outputs": [],
   "source": [
    "# В папке subsid (shared/homeworks/python_ds_miniprojects/5_subsid) \n",
    "# находятся файлы (tm_sales_1, tm_sales_2, ...) с продажами продуктов через телемаркетинг. \n",
    "# Каждый файл содержит, как минимум, 4 колонки (поля): FILIAL_ID, SUBS_ID, PROD_ID, ACT_DTTM."
   ]
  },
  {
   "cell_type": "code",
   "execution_count": 4,
   "metadata": {},
   "outputs": [
    {
     "data": {
      "text/plain": [
       "['subsid']"
      ]
     },
     "execution_count": 4,
     "metadata": {},
     "output_type": "execute_result"
    }
   ],
   "source": [
    "path = '/mnt/HC_Volume_18315164/home-jupyter/jupyter-o-bogdanova/shared/homeworks/python_ds_miniprojects/5_subsid'\n",
    "os.listdir(path)"
   ]
  },
  {
   "cell_type": "code",
   "execution_count": 55,
   "metadata": {},
   "outputs": [
    {
     "data": {
      "text/plain": [
       "['prod_activations_logs.csv',\n",
       " 'tm_sales_1.csv',\n",
       " 'tm_sales_2.csv',\n",
       " 'tm_sales_3.csv']"
      ]
     },
     "execution_count": 55,
     "metadata": {},
     "output_type": "execute_result"
    }
   ],
   "source": [
    "path_full = path+'/'+os.listdir(path)[0]\n",
    "os.listdir(path_full)"
   ]
  },
  {
   "cell_type": "code",
   "execution_count": 176,
   "metadata": {},
   "outputs": [
    {
     "data": {
      "text/html": [
       "<div>\n",
       "<style scoped>\n",
       "    .dataframe tbody tr th:only-of-type {\n",
       "        vertical-align: middle;\n",
       "    }\n",
       "\n",
       "    .dataframe tbody tr th {\n",
       "        vertical-align: top;\n",
       "    }\n",
       "\n",
       "    .dataframe thead th {\n",
       "        text-align: right;\n",
       "    }\n",
       "</style>\n",
       "<table border=\"1\" class=\"dataframe\">\n",
       "  <thead>\n",
       "    <tr style=\"text-align: right;\">\n",
       "      <th></th>\n",
       "      <th>SUBS_ID</th>\n",
       "      <th>PROD_ID</th>\n",
       "      <th>START_DTTM</th>\n",
       "      <th>END_DTTM</th>\n",
       "    </tr>\n",
       "  </thead>\n",
       "  <tbody>\n",
       "    <tr>\n",
       "      <th>0</th>\n",
       "      <td>id4651830</td>\n",
       "      <td>1954</td>\n",
       "      <td>2020-03-20 14:59:00</td>\n",
       "      <td>2020-12-01 00:00:00</td>\n",
       "    </tr>\n",
       "    <tr>\n",
       "      <th>1</th>\n",
       "      <td>id7646509</td>\n",
       "      <td>6431</td>\n",
       "      <td>2020-03-19 13:00:00</td>\n",
       "      <td>2020-03-19 13:03:00</td>\n",
       "    </tr>\n",
       "    <tr>\n",
       "      <th>2</th>\n",
       "      <td>id7461794</td>\n",
       "      <td>3310</td>\n",
       "      <td>2020-03-20 17:25:00</td>\n",
       "      <td>2020-12-01 00:00:00</td>\n",
       "    </tr>\n",
       "    <tr>\n",
       "      <th>3</th>\n",
       "      <td>id5416547</td>\n",
       "      <td>1743</td>\n",
       "      <td>2020-03-17 10:17:00</td>\n",
       "      <td>2020-03-25 11:00:00</td>\n",
       "    </tr>\n",
       "    <tr>\n",
       "      <th>4</th>\n",
       "      <td>id8238421</td>\n",
       "      <td>1859</td>\n",
       "      <td>2020-03-01 11:42:00</td>\n",
       "      <td>2020-03-01 11:43:00</td>\n",
       "    </tr>\n",
       "    <tr>\n",
       "      <th>5</th>\n",
       "      <td>id8641743</td>\n",
       "      <td>2752</td>\n",
       "      <td>2020-03-20 15:44:00</td>\n",
       "      <td>2020-04-21 15:44:00</td>\n",
       "    </tr>\n",
       "    <tr>\n",
       "      <th>6</th>\n",
       "      <td>id2185490</td>\n",
       "      <td>3210</td>\n",
       "      <td>2020-03-16 16:28:00</td>\n",
       "      <td>2020-12-01 00:00:00</td>\n",
       "    </tr>\n",
       "    <tr>\n",
       "      <th>7</th>\n",
       "      <td>id7642700</td>\n",
       "      <td>3020</td>\n",
       "      <td>2020-03-15 14:21:00</td>\n",
       "      <td>2020-03-15 23:42:00</td>\n",
       "    </tr>\n",
       "    <tr>\n",
       "      <th>8</th>\n",
       "      <td>id8741631</td>\n",
       "      <td>5677</td>\n",
       "      <td>2020-03-19 12:28:00</td>\n",
       "      <td>2020-12-01 00:00:00</td>\n",
       "    </tr>\n",
       "  </tbody>\n",
       "</table>\n",
       "</div>"
      ],
      "text/plain": [
       "     SUBS_ID  PROD_ID          START_DTTM            END_DTTM\n",
       "0  id4651830     1954 2020-03-20 14:59:00 2020-12-01 00:00:00\n",
       "1  id7646509     6431 2020-03-19 13:00:00 2020-03-19 13:03:00\n",
       "2  id7461794     3310 2020-03-20 17:25:00 2020-12-01 00:00:00\n",
       "3  id5416547     1743 2020-03-17 10:17:00 2020-03-25 11:00:00\n",
       "4  id8238421     1859 2020-03-01 11:42:00 2020-03-01 11:43:00\n",
       "5  id8641743     2752 2020-03-20 15:44:00 2020-04-21 15:44:00\n",
       "6  id2185490     3210 2020-03-16 16:28:00 2020-12-01 00:00:00\n",
       "7  id7642700     3020 2020-03-15 14:21:00 2020-03-15 23:42:00\n",
       "8  id8741631     5677 2020-03-19 12:28:00 2020-12-01 00:00:00"
      ]
     },
     "execution_count": 176,
     "metadata": {},
     "output_type": "execute_result"
    }
   ],
   "source": [
    "all_tm = pd.DataFrame()\n",
    "all_prod_logs = pd.DataFrame()\n",
    "for i in os.listdir(path_full):\n",
    "    if i.startswith('tm'): # choose tm-files\n",
    "        df = pd.read_csv(path_full+'/'+i, sep = ';') \\\n",
    "            .dropna() \\\n",
    "            .reset_index(drop = True)#reading file #delete NaN\n",
    "           \n",
    "        for i in range(len(df['SUBS_ID'])): # если 'id' нет в начале SUBS_ID, то нужно его добавить\n",
    "            if df.loc[i,'SUBS_ID'].startswith('id'):\n",
    "                 continue\n",
    "            else: \n",
    "                df.loc[i,'SUBS_ID'] = 'id' + df.loc[i,'SUBS_ID']\n",
    "    \n",
    "        list_columns = df.columns.tolist() # list of columns\n",
    "        pattern = re.compile('DTTM')\n",
    "    \n",
    "        for i in list_columns: #find data columns\n",
    "            if len(pattern.findall(i)) > 0:\n",
    "                    df[i] = pd.to_datetime(df[i], dayfirst=True) # change to DateTime format\n",
    "            else: continue\n",
    "    \n",
    "        df = df [[\"ACT_DTTM\",\"FILIAL_ID\",\"SUBS_ID\",\"PROD_ID\"]] #change column oder\n",
    "        all_tm =all_tm.append(df)                     \n",
    "    else:\n",
    "        df_2 = pd.read_csv(path_full+'/'+i, sep = ';') \\\n",
    "            .dropna() \\\n",
    "            .reset_index(drop = True) #reading file #delete NaN\n",
    "        \n",
    "        list_columns = df_2.columns.tolist() # list of columns\n",
    "        pattern = re.compile('DTTM')\n",
    "    \n",
    "        for i in list_columns: #find data columns\n",
    "            if len(pattern.findall(i)) > 0:\n",
    "                    df_2[i] = pd.to_datetime(df_2[i], dayfirst=True) # change to DateTime format\n",
    "            else: continue\n",
    "        all_prod_logs = all_prod_logs.append(df_2)\n",
    "\n",
    "\n",
    "all_prod_logs"
   ]
  },
  {
   "cell_type": "code",
   "execution_count": null,
   "metadata": {},
   "outputs": [],
   "source": []
  },
  {
   "cell_type": "code",
   "execution_count": 177,
   "metadata": {},
   "outputs": [
    {
     "data": {
      "text/html": [
       "<div>\n",
       "<style scoped>\n",
       "    .dataframe tbody tr th:only-of-type {\n",
       "        vertical-align: middle;\n",
       "    }\n",
       "\n",
       "    .dataframe tbody tr th {\n",
       "        vertical-align: top;\n",
       "    }\n",
       "\n",
       "    .dataframe thead th {\n",
       "        text-align: right;\n",
       "    }\n",
       "</style>\n",
       "<table border=\"1\" class=\"dataframe\">\n",
       "  <thead>\n",
       "    <tr style=\"text-align: right;\">\n",
       "      <th></th>\n",
       "      <th>ACT_DTTM</th>\n",
       "      <th>FILIAL_ID</th>\n",
       "      <th>SUBS_ID</th>\n",
       "      <th>PROD_ID</th>\n",
       "      <th>START_DTTM</th>\n",
       "      <th>END_DTTM</th>\n",
       "    </tr>\n",
       "  </thead>\n",
       "  <tbody>\n",
       "    <tr>\n",
       "      <th>0</th>\n",
       "      <td>2020-03-20 14:59:00</td>\n",
       "      <td>1</td>\n",
       "      <td>id4651830</td>\n",
       "      <td>1954</td>\n",
       "      <td>2020-03-20 14:59:00</td>\n",
       "      <td>2020-12-01 00:00:00</td>\n",
       "    </tr>\n",
       "    <tr>\n",
       "      <th>1</th>\n",
       "      <td>2020-03-19 13:00:00</td>\n",
       "      <td>5</td>\n",
       "      <td>id7646509</td>\n",
       "      <td>6431</td>\n",
       "      <td>2020-03-19 13:00:00</td>\n",
       "      <td>2020-03-19 13:03:00</td>\n",
       "    </tr>\n",
       "    <tr>\n",
       "      <th>2</th>\n",
       "      <td>2020-03-17 10:17:00</td>\n",
       "      <td>3</td>\n",
       "      <td>id5416547</td>\n",
       "      <td>1743</td>\n",
       "      <td>2020-03-17 10:17:00</td>\n",
       "      <td>2020-03-25 11:00:00</td>\n",
       "    </tr>\n",
       "    <tr>\n",
       "      <th>3</th>\n",
       "      <td>2020-03-16 16:28:00</td>\n",
       "      <td>2</td>\n",
       "      <td>id2185490</td>\n",
       "      <td>3210</td>\n",
       "      <td>2020-03-16 16:28:00</td>\n",
       "      <td>2020-12-01 00:00:00</td>\n",
       "    </tr>\n",
       "    <tr>\n",
       "      <th>4</th>\n",
       "      <td>2020-03-15 14:21:00</td>\n",
       "      <td>6</td>\n",
       "      <td>id7642700</td>\n",
       "      <td>3020</td>\n",
       "      <td>2020-03-15 14:21:00</td>\n",
       "      <td>2020-03-15 23:42:00</td>\n",
       "    </tr>\n",
       "  </tbody>\n",
       "</table>\n",
       "</div>"
      ],
      "text/plain": [
       "             ACT_DTTM  FILIAL_ID    SUBS_ID  PROD_ID          START_DTTM  \\\n",
       "0 2020-03-20 14:59:00          1  id4651830     1954 2020-03-20 14:59:00   \n",
       "1 2020-03-19 13:00:00          5  id7646509     6431 2020-03-19 13:00:00   \n",
       "2 2020-03-17 10:17:00          3  id5416547     1743 2020-03-17 10:17:00   \n",
       "3 2020-03-16 16:28:00          2  id2185490     3210 2020-03-16 16:28:00   \n",
       "4 2020-03-15 14:21:00          6  id7642700     3020 2020-03-15 14:21:00   \n",
       "\n",
       "             END_DTTM  \n",
       "0 2020-12-01 00:00:00  \n",
       "1 2020-03-19 13:03:00  \n",
       "2 2020-03-25 11:00:00  \n",
       "3 2020-12-01 00:00:00  \n",
       "4 2020-03-15 23:42:00  "
      ]
     },
     "execution_count": 177,
     "metadata": {},
     "output_type": "execute_result"
    }
   ],
   "source": [
    " merge_data = all_tm\\\n",
    "     .merge(all_prod_logs, on = ['SUBS_ID', 'PROD_ID'])\n",
    "merge_data"
   ]
  },
  {
   "cell_type": "code",
   "execution_count": 184,
   "metadata": {},
   "outputs": [
    {
     "data": {
      "text/plain": [
       "3    id2185490\n",
       "0    id4651830\n",
       "2    id5416547\n",
       "4    id7642700\n",
       "Name: SUBS_ID, dtype: object"
      ]
     },
     "execution_count": 184,
     "metadata": {},
     "output_type": "execute_result"
    }
   ],
   "source": [
    "# продажа не засчитывается, если отключение (END_DTTM) произошло меньше чем через 5 минут после подключения (START_DTTM)\n",
    "\n",
    "merge_data['difference'] = merge_data['END_DTTM'] - merge_data['START_DTTM']\n",
    "\n",
    "merge_data=merge_data[merge_data.difference > '5m']\n",
    "merge_data['SUBS_ID'].sort_values()"
   ]
  },
  {
   "cell_type": "code",
   "execution_count": 182,
   "metadata": {},
   "outputs": [
    {
     "data": {
      "text/html": [
       "<div>\n",
       "<style scoped>\n",
       "    .dataframe tbody tr th:only-of-type {\n",
       "        vertical-align: middle;\n",
       "    }\n",
       "\n",
       "    .dataframe tbody tr th {\n",
       "        vertical-align: top;\n",
       "    }\n",
       "\n",
       "    .dataframe thead th {\n",
       "        text-align: right;\n",
       "    }\n",
       "</style>\n",
       "<table border=\"1\" class=\"dataframe\">\n",
       "  <thead>\n",
       "    <tr style=\"text-align: right;\">\n",
       "      <th></th>\n",
       "      <th>ACT_DTTM</th>\n",
       "      <th>FILIAL_ID</th>\n",
       "      <th>difference</th>\n",
       "    </tr>\n",
       "  </thead>\n",
       "  <tbody>\n",
       "    <tr>\n",
       "      <th>0</th>\n",
       "      <td>20-03-2020</td>\n",
       "      <td>1</td>\n",
       "      <td>255 days 09:01:00</td>\n",
       "    </tr>\n",
       "    <tr>\n",
       "      <th>1</th>\n",
       "      <td>17-03-2020</td>\n",
       "      <td>3</td>\n",
       "      <td>8 days 00:43:00</td>\n",
       "    </tr>\n",
       "    <tr>\n",
       "      <th>2</th>\n",
       "      <td>16-03-2020</td>\n",
       "      <td>2</td>\n",
       "      <td>259 days 07:32:00</td>\n",
       "    </tr>\n",
       "    <tr>\n",
       "      <th>3</th>\n",
       "      <td>15-03-2020</td>\n",
       "      <td>6</td>\n",
       "      <td>0 days 09:21:00</td>\n",
       "    </tr>\n",
       "  </tbody>\n",
       "</table>\n",
       "</div>"
      ],
      "text/plain": [
       "     ACT_DTTM  FILIAL_ID        difference\n",
       "0  20-03-2020          1 255 days 09:01:00\n",
       "1  17-03-2020          3   8 days 00:43:00\n",
       "2  16-03-2020          2 259 days 07:32:00\n",
       "3  15-03-2020          6   0 days 09:21:00"
      ]
     },
     "execution_count": 182,
     "metadata": {},
     "output_type": "execute_result"
    }
   ],
   "source": [
    "# Сохранение в csv\n",
    "\n",
    "data_to_csv = merge_data[['ACT_DTTM', 'FILIAL_ID', 'difference']].reset_index(drop = True)\n",
    "\n",
    "# change date format \n",
    "for i in range(len(data_to_csv['ACT_DTTM'])):\n",
    "    data_to_csv.loc[i, 'ACT_DTTM'] = data_to_csv.loc[i, 'ACT_DTTM'].strftime('%d-%m-%Y')\n",
    "data_to_csv.to_csv('all_data.csv', sep = ';', index = False)\n",
    "data_to_csv"
   ]
  }
 ],
 "metadata": {
  "kernelspec": {
   "display_name": "Python 3",
   "language": "python",
   "name": "python3"
  },
  "language_info": {
   "codemirror_mode": {
    "name": "ipython",
    "version": 3
   },
   "file_extension": ".py",
   "mimetype": "text/x-python",
   "name": "python",
   "nbconvert_exporter": "python",
   "pygments_lexer": "ipython3",
   "version": "3.7.3"
  }
 },
 "nbformat": 4,
 "nbformat_minor": 4
}
